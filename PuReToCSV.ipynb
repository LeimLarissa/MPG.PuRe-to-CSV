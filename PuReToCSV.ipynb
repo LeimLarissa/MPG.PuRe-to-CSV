{
 "cells": [
  {
   "cell_type": "code",
   "execution_count": null,
   "id": "6faf71db-06b6-4785-b893-afd7c955380c",
   "metadata": {},
   "outputs": [],
   "source": [
    "pip install -r requirements.txt"
   ]
  },
  {
   "cell_type": "code",
   "execution_count": 1,
   "id": "ac1e3a65-779c-4751-9532-f023044b93d3",
   "metadata": {
    "tags": []
   },
   "outputs": [],
   "source": [
    "import json\n",
    "import re\n",
    "import pandas as pd\n",
    "import requests"
   ]
  },
  {
   "cell_type": "code",
   "execution_count": null,
   "id": "c1b5ae37-c893-47ca-aca6-394f394a8614",
   "metadata": {
    "tags": []
   },
   "outputs": [],
   "source": [
    "#query from the curl command of the search request \n",
    "query = {\"query\" : {\n",
    "  \"bool\" : {\n",
    "    \"must\" : [ {\n",
    "      \"term\" : {\n",
    "        \"publicState\" : {\n",
    "          \"value\" : \"RELEASED\"\n",
    "        }\n",
    "      }\n",
    "    }, {\n",
    "      \"term\" : {\n",
    "        \"versionState\" : {\n",
    "          \"value\" : \"RELEASED\"\n",
    "        }\n",
    "      }\n",
    "    }, {\n",
    "      \"bool\" : {\n",
    "        \"should\" : [ {\n",
    "          \"term\" : {\n",
    "            \"metadata.creators.person.organizations.identifierPath\" : {\n",
    "              \"value\" : \"ou_persistent25\"\n",
    "            }\n",
    "          }\n",
    "        }, {\n",
    "          \"term\" : {\n",
    "            \"metadata.creators.organization.identifierPath\" : {\n",
    "              \"value\" : \"ou_persistent25\"\n",
    "            }\n",
    "          }\n",
    "        } ]\n",
    "      }\n",
    "    } ]\n",
    "  }\n",
    "},\"sort\" : [{\"metadata.title.keyword\":{\"order\":\"asc\"}}],\"size\" : \"5000\",\"from\" : \"0\"}"
   ]
  },
  {
   "cell_type": "code",
   "execution_count": null,
   "id": "dea89e1d-7982-4d1c-ae07-aacafbc893f3",
   "metadata": {
    "scrolled": true,
    "tags": []
   },
   "outputs": [],
   "source": [
    "#https://requests.readthedocs.io/en/latest/user/quickstart/#passing-parameters-in-urls\n",
    "#Sends search request to PuRe REST API with the parameter defined above \n",
    "\n",
    "r = requests.post(\"https://pure.mpg.de/rest/items/search?format=json\", json=query)\n",
    "\n",
    "data = r.json()                                                    #Output is the same as the JSON-Export file"
   ]
  },
  {
   "cell_type": "code",
   "execution_count": null,
   "id": "239250cf-ad81-445f-b7ae-310ca44aa65d",
   "metadata": {
    "tags": []
   },
   "outputs": [],
   "source": [
    "#Create empty DataFrame where Metadata columns will be added\n",
    "df = pd.DataFrame() "
   ]
  },
  {
   "cell_type": "code",
   "execution_count": null,
   "id": "875d3fa3-9866-4027-8361-6be4a04becee",
   "metadata": {
    "tags": []
   },
   "outputs": [],
   "source": [
    "#Extract PuRe_ID from JSON and add to DataFrame\n",
    "\n",
    "n = 0\n",
    "ID = []\n",
    "\n",
    "for i in data['records']:                                   #Goes through individual record items\n",
    "    ID.append(data['records'][n]['persistenceId'])\n",
    "    n += 1\n",
    "    \n",
    "df['ID'] = ID"
   ]
  },
  {
   "cell_type": "code",
   "execution_count": null,
   "id": "f9bc13b8-8ae2-40c7-a26c-bfc263c3ba93",
   "metadata": {
    "tags": []
   },
   "outputs": [],
   "source": [
    "#Extract Creators from JSON and add to DataFrame\n",
    "\n",
    "n = 0 \n",
    "creators = []\n",
    "\n",
    "for i in data['records']:\n",
    "    c_in = []\n",
    "    m = 0\n",
    "    for p in data['records'][n]['data']['metadata']['creators']:           #To capture all persons listed under creators\n",
    "        if 'person' in data['records'][n]['data']['metadata']['creators'][m]:\n",
    "            if 'givenName' in data['records'][n]['data']['metadata']['creators'][m]['person']:\n",
    "                name = \"\"\n",
    "                name = data['records'][n]['data']['metadata']['creators'][m]['person']['givenName'] + \" \" + data['records'][n]['data']['metadata']['creators'][m]['person']['familyName']\n",
    "                                                                                                                                                    #string of first name + space + last name\n",
    "                c_in.append(name)\n",
    "            else:\n",
    "                name = \"\"\n",
    "                name = data['records'][n]['data']['metadata']['creators'][m]['person']['familyName']\n",
    "                c_in.append(name)\n",
    "        else:\n",
    "            name = \"\"\n",
    "            name = data['records'][n]['data']['metadata']['creators'][m]['organization']['name']\n",
    "            c_in.append(name)\n",
    "        m +=1 \n",
    "    creators.append(\"; \".join(c_in))      #combines the names of all creators in this item with the seperator \"; \" \n",
    "    n +=1\n",
    "    \n",
    "df['Creators'] = creators"
   ]
  },
  {
   "cell_type": "code",
   "execution_count": null,
   "id": "55321150-655f-424a-acac-c50f9b3d2050",
   "metadata": {
    "tags": []
   },
   "outputs": [],
   "source": [
    "#Extract Title from JSON and add to DataFrame\n",
    "\n",
    "n = 0\n",
    "title = []\n",
    "\n",
    "for i in data['records']:\n",
    "    title.append(data['records'][n]['data']['metadata']['title'])\n",
    "    n += 1\n",
    "    \n",
    "df['Title'] = title"
   ]
  },
  {
   "cell_type": "code",
   "execution_count": null,
   "id": "870391da-1c3c-400c-bee4-a25dfd41ae04",
   "metadata": {
    "tags": []
   },
   "outputs": [],
   "source": [
    "#Extract Genre from JSON and add to DataFrame\n",
    "\n",
    "n = 0\n",
    "genre = []\n",
    "\n",
    "for i in data['records']:\n",
    "    genre.append(data['records'][n]['data']['metadata']['genre'])\n",
    "    n += 1\n",
    "    \n",
    "df['Genre'] = genre"
   ]
  },
  {
   "cell_type": "code",
   "execution_count": null,
   "id": "832d0660-2cbb-4304-9cdb-46ffa5f135c3",
   "metadata": {
    "tags": []
   },
   "outputs": [],
   "source": [
    "#Extract Date from JSON and add to DataFrame\n",
    "\n",
    "n = 0\n",
    "date = []\n",
    "status = []\n",
    "\n",
    "for i in data['records']:\n",
    "    if 'datePublishedInPrint' in data['records'][n]['data']['metadata']:                  #Only ever one Date selected by priorities \n",
    "        date.append(data['records'][n]['data']['metadata']['datePublishedInPrint'])       #Published before Online before Accepten before Submitted \n",
    "        status.append(\"Published in Print\")\n",
    "    elif 'datePublishedOnline' in data['records'][n]['data']['metadata']:\n",
    "        date.append(data['records'][n]['data']['metadata']['datePublishedOnline'])\n",
    "        status.append(\"Published Online\")\n",
    "    elif 'dateAccepted'in data['records'][n]['data']['metadata']:\n",
    "        date.append(data['records'][n]['data']['metadata']['dateAccepted'])\n",
    "        status.append(\"Accepted\")\n",
    "    elif \"dateSubmitted\" in data['records'][n]['data']['metadata']:\n",
    "        date.append(data['records'][n]['data']['metadata']['dateSubmitted'])\n",
    "        status.append(\"Submitted\")\n",
    "    elif \"dateCreated\" in data['records'][n]['data']['metadata']:\n",
    "        date.append(data['records'][n]['data']['metadata']['dateCreated'])\n",
    "        status.append(\"Created\")\n",
    "    else:\n",
    "        date.append('NA')\n",
    "        status.append('NA')\n",
    "    n += 1\n",
    "\n",
    "df['Status'] = status\n",
    "df['Date'] = date"
   ]
  },
  {
   "cell_type": "code",
   "execution_count": null,
   "id": "5f9fc413-3d7a-49f8-91d0-68f996573bd9",
   "metadata": {
    "tags": []
   },
   "outputs": [],
   "source": [
    "#Extract OA Status from JSON and add to DataFrame\n",
    "\n",
    "n = 0 \n",
    "OA = []\n",
    "\n",
    "for i in data['records']:\n",
    "    if \"files\" in data['records'][n]['data']:                   #Only if there are files\n",
    "        oa_in = []\n",
    "        m = 0\n",
    "        for p in data['records'][n]['data']['files']:\n",
    "            if 'oaStatus' in data['records'][n]['data']['files'][m]['metadata']:\n",
    "                oa_in.append(data['records'][n]['data']['files'][m]['metadata']['oaStatus'])\n",
    "            else:\n",
    "                oa_in.append(\"NA\")\n",
    "            m +=1 \n",
    "        OA.append(\"; \".join(oa_in))                           #combines OA status for all files attached separated by \"; \"\n",
    "        n +=1\n",
    "    else:\n",
    "        OA.append(\"NA\")                                       #Needed so index of existing df and column match \n",
    "    \n",
    "df['OAStatus'] = OA"
   ]
  },
  {
   "cell_type": "code",
   "execution_count": null,
   "id": "23f6355d-52a6-466b-9c49-065842cfe853",
   "metadata": {},
   "outputs": [],
   "source": [
    "#Extract local tag from JSON and add to DataFrame\n",
    "\n",
    "n = 0\n",
    "local_tag = []\n",
    "\n",
    "for i in data['records']:\n",
    "    local_tag_i = []\n",
    "    for p in data['records'][n]['data']['localTags']:\n",
    "        local_tag_i.append(p)\n",
    "    local_tag.append(\"; \".join(local_tag_i))\n",
    "    n += 1\n",
    "\n",
    "df[\"Local Tag\"] = local_tag"
   ]
  },
  {
   "cell_type": "code",
   "execution_count": null,
   "id": "d58882da-6d53-442b-9ed0-fe6a592b62d1",
   "metadata": {
    "tags": []
   },
   "outputs": [],
   "source": [
    "#Check Dataframe\n",
    "df"
   ]
  },
  {
   "cell_type": "code",
   "execution_count": null,
   "id": "ad9ed721-a869-4aae-a887-5c3508017d57",
   "metadata": {
    "tags": []
   },
   "outputs": [],
   "source": [
    "#Write Dataframe as csv into file \n",
    "\n",
    "institute = \"MPDL\"\n",
    "df.to_csv(institute + '.csv')"
   ]
  },
  {
   "cell_type": "code",
   "execution_count": null,
   "id": "f304404d-191b-44cd-a568-fbad0b209fc3",
   "metadata": {},
   "outputs": [],
   "source": []
  }
 ],
 "metadata": {
  "kernelspec": {
   "display_name": "Python 3 (ipykernel)",
   "language": "python",
   "name": "python3"
  },
  "language_info": {
   "codemirror_mode": {
    "name": "ipython",
    "version": 3
   },
   "file_extension": ".py",
   "mimetype": "text/x-python",
   "name": "python",
   "nbconvert_exporter": "python",
   "pygments_lexer": "ipython3",
   "version": "3.11.7"
  }
 },
 "nbformat": 4,
 "nbformat_minor": 5
}
